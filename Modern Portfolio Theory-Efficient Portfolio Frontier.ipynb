{
 "cells": [
  {
   "cell_type": "code",
   "execution_count": 1,
   "metadata": {},
   "outputs": [],
   "source": [
    "import numpy as np\n",
    "import pandas as pd\n",
    "from pandas_datareader import data as wb\n",
    "import matplotlib.pyplot as plt\n",
    "%matplotlib inline"
   ]
  },
  {
   "cell_type": "code",
   "execution_count": 2,
   "metadata": {},
   "outputs": [],
   "source": [
    "assets = [\"NFLX\",\"TSLA\",\"GC=F\"]\n",
    "pf_data = pd.DataFrame()\n",
    "for a in assets:\n",
    "    pf_data[a] = wb.DataReader(a, data_source = 'yahoo', start = '2020-5-5', end=\"2021-5-4\")['Adj Close']"
   ]
  },
  {
   "cell_type": "code",
   "execution_count": 3,
   "metadata": {},
   "outputs": [],
   "source": [
    "a = 1"
   ]
  },
  {
   "cell_type": "code",
   "execution_count": 4,
   "metadata": {},
   "outputs": [
    {
     "data": {
      "text/html": [
       "<div>\n",
       "<style scoped>\n",
       "    .dataframe tbody tr th:only-of-type {\n",
       "        vertical-align: middle;\n",
       "    }\n",
       "\n",
       "    .dataframe tbody tr th {\n",
       "        vertical-align: top;\n",
       "    }\n",
       "\n",
       "    .dataframe thead th {\n",
       "        text-align: right;\n",
       "    }\n",
       "</style>\n",
       "<table border=\"1\" class=\"dataframe\">\n",
       "  <thead>\n",
       "    <tr style=\"text-align: right;\">\n",
       "      <th></th>\n",
       "      <th>NFLX</th>\n",
       "      <th>TSLA</th>\n",
       "      <th>GC=F</th>\n",
       "    </tr>\n",
       "    <tr>\n",
       "      <th>Date</th>\n",
       "      <th></th>\n",
       "      <th></th>\n",
       "      <th></th>\n",
       "    </tr>\n",
       "  </thead>\n",
       "  <tbody>\n",
       "    <tr>\n",
       "      <th>2020-05-05</th>\n",
       "      <td>424.679993</td>\n",
       "      <td>153.641998</td>\n",
       "      <td>1704.400024</td>\n",
       "    </tr>\n",
       "    <tr>\n",
       "      <th>2020-05-06</th>\n",
       "      <td>434.260010</td>\n",
       "      <td>156.516006</td>\n",
       "      <td>1684.199951</td>\n",
       "    </tr>\n",
       "    <tr>\n",
       "      <th>2020-05-07</th>\n",
       "      <td>436.529999</td>\n",
       "      <td>156.007996</td>\n",
       "      <td>1721.800049</td>\n",
       "    </tr>\n",
       "    <tr>\n",
       "      <th>2020-05-08</th>\n",
       "      <td>435.549988</td>\n",
       "      <td>163.884003</td>\n",
       "      <td>1709.900024</td>\n",
       "    </tr>\n",
       "    <tr>\n",
       "      <th>2020-05-11</th>\n",
       "      <td>440.519989</td>\n",
       "      <td>162.257996</td>\n",
       "      <td>1695.300049</td>\n",
       "    </tr>\n",
       "  </tbody>\n",
       "</table>\n",
       "</div>"
      ],
      "text/plain": [
       "                  NFLX        TSLA         GC=F\n",
       "Date                                           \n",
       "2020-05-05  424.679993  153.641998  1704.400024\n",
       "2020-05-06  434.260010  156.516006  1684.199951\n",
       "2020-05-07  436.529999  156.007996  1721.800049\n",
       "2020-05-08  435.549988  163.884003  1709.900024\n",
       "2020-05-11  440.519989  162.257996  1695.300049"
      ]
     },
     "execution_count": 4,
     "metadata": {},
     "output_type": "execute_result"
    }
   ],
   "source": [
    "pf_data.head()"
   ]
  },
  {
   "cell_type": "code",
   "execution_count": 5,
   "metadata": {},
   "outputs": [
    {
     "data": {
      "text/html": [
       "<div>\n",
       "<style scoped>\n",
       "    .dataframe tbody tr th:only-of-type {\n",
       "        vertical-align: middle;\n",
       "    }\n",
       "\n",
       "    .dataframe tbody tr th {\n",
       "        vertical-align: top;\n",
       "    }\n",
       "\n",
       "    .dataframe thead th {\n",
       "        text-align: right;\n",
       "    }\n",
       "</style>\n",
       "<table border=\"1\" class=\"dataframe\">\n",
       "  <thead>\n",
       "    <tr style=\"text-align: right;\">\n",
       "      <th></th>\n",
       "      <th>NFLX</th>\n",
       "      <th>TSLA</th>\n",
       "      <th>GC=F</th>\n",
       "    </tr>\n",
       "    <tr>\n",
       "      <th>Date</th>\n",
       "      <th></th>\n",
       "      <th></th>\n",
       "      <th></th>\n",
       "    </tr>\n",
       "  </thead>\n",
       "  <tbody>\n",
       "    <tr>\n",
       "      <th>2021-04-28</th>\n",
       "      <td>506.519989</td>\n",
       "      <td>694.400024</td>\n",
       "      <td>1773.199951</td>\n",
       "    </tr>\n",
       "    <tr>\n",
       "      <th>2021-04-29</th>\n",
       "      <td>509.000000</td>\n",
       "      <td>677.000000</td>\n",
       "      <td>1768.099976</td>\n",
       "    </tr>\n",
       "    <tr>\n",
       "      <th>2021-04-30</th>\n",
       "      <td>513.469971</td>\n",
       "      <td>709.440002</td>\n",
       "      <td>1767.300049</td>\n",
       "    </tr>\n",
       "    <tr>\n",
       "      <th>2021-05-03</th>\n",
       "      <td>509.109985</td>\n",
       "      <td>684.900024</td>\n",
       "      <td>1791.400024</td>\n",
       "    </tr>\n",
       "    <tr>\n",
       "      <th>2021-05-04</th>\n",
       "      <td>503.179993</td>\n",
       "      <td>673.599976</td>\n",
       "      <td>1775.800049</td>\n",
       "    </tr>\n",
       "  </tbody>\n",
       "</table>\n",
       "</div>"
      ],
      "text/plain": [
       "                  NFLX        TSLA         GC=F\n",
       "Date                                           \n",
       "2021-04-28  506.519989  694.400024  1773.199951\n",
       "2021-04-29  509.000000  677.000000  1768.099976\n",
       "2021-04-30  513.469971  709.440002  1767.300049\n",
       "2021-05-03  509.109985  684.900024  1791.400024\n",
       "2021-05-04  503.179993  673.599976  1775.800049"
      ]
     },
     "execution_count": 5,
     "metadata": {},
     "output_type": "execute_result"
    }
   ],
   "source": [
    "pf_data.tail()"
   ]
  },
  {
   "cell_type": "code",
   "execution_count": 6,
   "metadata": {},
   "outputs": [
    {
     "data": {
      "text/plain": [
       "<AxesSubplot:xlabel='Date'>"
      ]
     },
     "execution_count": 6,
     "metadata": {},
     "output_type": "execute_result"
    },
    {
     "data": {
      "image/png": "[encoded data removed]",
      "text/plain": [
       "<Figure size 720x360 with 1 Axes>"
      ]
     },
     "metadata": {
      "needs_background": "light"
     },
     "output_type": "display_data"
    }
   ],
   "source": [
    "(pf_data / pf_data.iloc[0] * 100).plot(figsize=(10, 5))"
   ]
  },
  {
   "cell_type": "code",
   "execution_count": 7,
   "metadata": {},
   "outputs": [],
   "source": [
    "log_returns = np.log(pf_data/pf_data.shift(1))"
   ]
  },
  {
   "cell_type": "code",
   "execution_count": 8,
   "metadata": {},
   "outputs": [
    {
     "data": {
      "text/html": [
       "<div>\n",
       "<style scoped>\n",
       "    .dataframe tbody tr th:only-of-type {\n",
       "        vertical-align: middle;\n",
       "    }\n",
       "\n",
       "    .dataframe tbody tr th {\n",
       "        vertical-align: top;\n",
       "    }\n",
       "\n",
       "    .dataframe thead th {\n",
       "        text-align: right;\n",
       "    }\n",
       "</style>\n",
       "<table border=\"1\" class=\"dataframe\">\n",
       "  <thead>\n",
       "    <tr style=\"text-align: right;\">\n",
       "      <th></th>\n",
       "      <th>NFLX</th>\n",
       "      <th>TSLA</th>\n",
       "      <th>GC=F</th>\n",
       "    </tr>\n",
       "  </thead>\n",
       "  <tbody>\n",
       "    <tr>\n",
       "      <th>NFLX</th>\n",
       "      <td>0.000694</td>\n",
       "      <td>0.000427</td>\n",
       "      <td>0.000061</td>\n",
       "    </tr>\n",
       "    <tr>\n",
       "      <th>TSLA</th>\n",
       "      <td>0.000427</td>\n",
       "      <td>0.002074</td>\n",
       "      <td>0.000064</td>\n",
       "    </tr>\n",
       "    <tr>\n",
       "      <th>GC=F</th>\n",
       "      <td>0.000061</td>\n",
       "      <td>0.000064</td>\n",
       "      <td>0.000125</td>\n",
       "    </tr>\n",
       "  </tbody>\n",
       "</table>\n",
       "</div>"
      ],
      "text/plain": [
       "          NFLX      TSLA      GC=F\n",
       "NFLX  0.000694  0.000427  0.000061\n",
       "TSLA  0.000427  0.002074  0.000064\n",
       "GC=F  0.000061  0.000064  0.000125"
      ]
     },
     "execution_count": 8,
     "metadata": {},
     "output_type": "execute_result"
    }
   ],
   "source": [
    "log_returns.cov() "
   ]
  },
  {
   "cell_type": "code",
   "execution_count": 9,
   "metadata": {},
   "outputs": [
    {
     "data": {
      "text/html": [
       "<div>\n",
       "<style scoped>\n",
       "    .dataframe tbody tr th:only-of-type {\n",
       "        vertical-align: middle;\n",
       "    }\n",
       "\n",
       "    .dataframe tbody tr th {\n",
       "        vertical-align: top;\n",
       "    }\n",
       "\n",
       "    .dataframe thead th {\n",
       "        text-align: right;\n",
       "    }\n",
       "</style>\n",
       "<table border=\"1\" class=\"dataframe\">\n",
       "  <thead>\n",
       "    <tr style=\"text-align: right;\">\n",
       "      <th></th>\n",
       "      <th>0</th>\n",
       "    </tr>\n",
       "  </thead>\n",
       "  <tbody>\n",
       "    <tr>\n",
       "      <th>NFLX</th>\n",
       "      <td>0.026338</td>\n",
       "    </tr>\n",
       "    <tr>\n",
       "      <th>TSLA</th>\n",
       "      <td>0.045540</td>\n",
       "    </tr>\n",
       "    <tr>\n",
       "      <th>GC=F</th>\n",
       "      <td>0.011190</td>\n",
       "    </tr>\n",
       "  </tbody>\n",
       "</table>\n",
       "</div>"
      ],
      "text/plain": [
       "             0\n",
       "NFLX  0.026338\n",
       "TSLA  0.045540\n",
       "GC=F  0.011190"
      ]
     },
     "execution_count": 9,
     "metadata": {},
     "output_type": "execute_result"
    }
   ],
   "source": [
    "st_deviation = pd.DataFrame(np.sqrt(log_returns.var()))\n",
    "st_deviation"
   ]
  },
  {
   "cell_type": "code",
   "execution_count": 10,
   "metadata": {},
   "outputs": [
    {
     "data": {
      "text/plain": [
       "NFLX    0.000676\n",
       "TSLA    0.005888\n",
       "GC=F    0.000229\n",
       "dtype: float64"
      ]
     },
     "execution_count": 10,
     "metadata": {},
     "output_type": "execute_result"
    }
   ],
   "source": [
    "mean_return = log_returns.mean()\n",
    "mean_return"
   ]
  },
  {
   "cell_type": "code",
   "execution_count": 11,
   "metadata": {},
   "outputs": [
    {
     "data": {
      "text/html": [
       "<div>\n",
       "<style scoped>\n",
       "    .dataframe tbody tr th:only-of-type {\n",
       "        vertical-align: middle;\n",
       "    }\n",
       "\n",
       "    .dataframe tbody tr th {\n",
       "        vertical-align: top;\n",
       "    }\n",
       "\n",
       "    .dataframe thead th {\n",
       "        text-align: right;\n",
       "    }\n",
       "</style>\n",
       "<table border=\"1\" class=\"dataframe\">\n",
       "  <thead>\n",
       "    <tr style=\"text-align: right;\">\n",
       "      <th></th>\n",
       "      <th>NFLX</th>\n",
       "      <th>TSLA</th>\n",
       "      <th>GC=F</th>\n",
       "    </tr>\n",
       "  </thead>\n",
       "  <tbody>\n",
       "    <tr>\n",
       "      <th>NFLX</th>\n",
       "      <td>1.000000</td>\n",
       "      <td>0.355935</td>\n",
       "      <td>0.204014</td>\n",
       "    </tr>\n",
       "    <tr>\n",
       "      <th>TSLA</th>\n",
       "      <td>0.355935</td>\n",
       "      <td>1.000000</td>\n",
       "      <td>0.124924</td>\n",
       "    </tr>\n",
       "    <tr>\n",
       "      <th>GC=F</th>\n",
       "      <td>0.204014</td>\n",
       "      <td>0.124924</td>\n",
       "      <td>1.000000</td>\n",
       "    </tr>\n",
       "  </tbody>\n",
       "</table>\n",
       "</div>"
      ],
      "text/plain": [
       "          NFLX      TSLA      GC=F\n",
       "NFLX  1.000000  0.355935  0.204014\n",
       "TSLA  0.355935  1.000000  0.124924\n",
       "GC=F  0.204014  0.124924  1.000000"
      ]
     },
     "execution_count": 11,
     "metadata": {},
     "output_type": "execute_result"
    }
   ],
   "source": [
    "log_returns.corr()"
   ]
  },
  {
   "cell_type": "code",
   "execution_count": 12,
   "metadata": {},
   "outputs": [],
   "source": [
    "num_assets = len(assets)"
   ]
  },
  {
   "cell_type": "code",
   "execution_count": 13,
   "metadata": {},
   "outputs": [
    {
     "data": {
      "text/plain": [
       "3"
      ]
     },
     "execution_count": 13,
     "metadata": {},
     "output_type": "execute_result"
    }
   ],
   "source": [
    "num_assets"
   ]
  },
  {
   "cell_type": "markdown",
   "metadata": {},
   "source": [
    "****"
   ]
  },
  {
   "cell_type": "markdown",
   "metadata": {},
   "source": [
    "## Constructing Efficient Portfolio Frontier:"
   ]
  },
  {
   "cell_type": "code",
   "execution_count": 14,
   "metadata": {},
   "outputs": [
    {
     "data": {
      "text/plain": [
       "(array([0.00309878, 0.00245541, 0.00267639, ..., 0.0011211 , 0.00194883,\n",
       "        0.00364926]),\n",
       " array([0.02624763, 0.02003635, 0.02184716, ..., 0.0165802 , 0.01951065,\n",
       "        0.02978647]))"
      ]
     },
     "execution_count": 14,
     "metadata": {},
     "output_type": "execute_result"
    }
   ],
   "source": [
    "pfolio_returns = []\n",
    "pfolio_volatilities = []\n",
    "pfolio_weights = []\n",
    "\n",
    "for x in range (5000):\n",
    "    weights = np.random.random(num_assets)\n",
    "    weights /= np.sum(weights)\n",
    "    pfolio_returns.append(np.sum(weights * log_returns.mean()) * a)\n",
    "    pfolio_volatilities.append(np.sqrt(np.dot(weights.T,np.dot(log_returns.cov() * a, weights))))\n",
    "    weights = np.round(weights,3)\n",
    "    pfolio_weights.append(weights)\n",
    "    \n",
    "pfolio_returns = np.array(pfolio_returns)\n",
    "pfolio_volatilities = np.array(pfolio_volatilities)\n",
    "\n",
    "pfolio_returns, pfolio_volatilities"
   ]
  },
  {
   "cell_type": "code",
   "execution_count": 15,
   "metadata": {},
   "outputs": [],
   "source": [
    "#Sharpe ratio\n",
    "sharpe_ratio = pfolio_returns/pfolio_volatilities"
   ]
  },
  {
   "cell_type": "code",
   "execution_count": 16,
   "metadata": {},
   "outputs": [],
   "source": [
    "portfolios = pd.DataFrame({'Return': pfolio_returns, 'Volatility': pfolio_volatilities,\"Sharpe Ratio\" : sharpe_ratio})"
   ]
  },
  {
   "cell_type": "code",
   "execution_count": 17,
   "metadata": {},
   "outputs": [
    {
     "data": {
      "text/html": [
       "<div>\n",
       "<style scoped>\n",
       "    .dataframe tbody tr th:only-of-type {\n",
       "        vertical-align: middle;\n",
       "    }\n",
       "\n",
       "    .dataframe tbody tr th {\n",
       "        vertical-align: top;\n",
       "    }\n",
       "\n",
       "    .dataframe thead th {\n",
       "        text-align: right;\n",
       "    }\n",
       "</style>\n",
       "<table border=\"1\" class=\"dataframe\">\n",
       "  <thead>\n",
       "    <tr style=\"text-align: right;\">\n",
       "      <th></th>\n",
       "      <th>Return</th>\n",
       "      <th>Volatility</th>\n",
       "      <th>Sharpe Ratio</th>\n",
       "    </tr>\n",
       "  </thead>\n",
       "  <tbody>\n",
       "    <tr>\n",
       "      <th>0</th>\n",
       "      <td>0.003099</td>\n",
       "      <td>0.026248</td>\n",
       "      <td>0.118059</td>\n",
       "    </tr>\n",
       "    <tr>\n",
       "      <th>1</th>\n",
       "      <td>0.002455</td>\n",
       "      <td>0.020036</td>\n",
       "      <td>0.122548</td>\n",
       "    </tr>\n",
       "    <tr>\n",
       "      <th>2</th>\n",
       "      <td>0.002676</td>\n",
       "      <td>0.021847</td>\n",
       "      <td>0.122505</td>\n",
       "    </tr>\n",
       "    <tr>\n",
       "      <th>3</th>\n",
       "      <td>0.000650</td>\n",
       "      <td>0.016476</td>\n",
       "      <td>0.039466</td>\n",
       "    </tr>\n",
       "    <tr>\n",
       "      <th>4</th>\n",
       "      <td>0.002748</td>\n",
       "      <td>0.026560</td>\n",
       "      <td>0.103454</td>\n",
       "    </tr>\n",
       "  </tbody>\n",
       "</table>\n",
       "</div>"
      ],
      "text/plain": [
       "     Return  Volatility  Sharpe Ratio\n",
       "0  0.003099    0.026248      0.118059\n",
       "1  0.002455    0.020036      0.122548\n",
       "2  0.002676    0.021847      0.122505\n",
       "3  0.000650    0.016476      0.039466\n",
       "4  0.002748    0.026560      0.103454"
      ]
     },
     "execution_count": 17,
     "metadata": {},
     "output_type": "execute_result"
    }
   ],
   "source": [
    "portfolios.head()"
   ]
  },
  {
   "cell_type": "code",
   "execution_count": 18,
   "metadata": {},
   "outputs": [
    {
     "data": {
      "text/html": [
       "<div>\n",
       "<style scoped>\n",
       "    .dataframe tbody tr th:only-of-type {\n",
       "        vertical-align: middle;\n",
       "    }\n",
       "\n",
       "    .dataframe tbody tr th {\n",
       "        vertical-align: top;\n",
       "    }\n",
       "\n",
       "    .dataframe thead th {\n",
       "        text-align: right;\n",
       "    }\n",
       "</style>\n",
       "<table border=\"1\" class=\"dataframe\">\n",
       "  <thead>\n",
       "    <tr style=\"text-align: right;\">\n",
       "      <th></th>\n",
       "      <th>Return</th>\n",
       "      <th>Volatility</th>\n",
       "      <th>Sharpe Ratio</th>\n",
       "    </tr>\n",
       "  </thead>\n",
       "  <tbody>\n",
       "    <tr>\n",
       "      <th>4995</th>\n",
       "      <td>0.000615</td>\n",
       "      <td>0.021539</td>\n",
       "      <td>0.028576</td>\n",
       "    </tr>\n",
       "    <tr>\n",
       "      <th>4996</th>\n",
       "      <td>0.003054</td>\n",
       "      <td>0.027138</td>\n",
       "      <td>0.112524</td>\n",
       "    </tr>\n",
       "    <tr>\n",
       "      <th>4997</th>\n",
       "      <td>0.001121</td>\n",
       "      <td>0.016580</td>\n",
       "      <td>0.067617</td>\n",
       "    </tr>\n",
       "    <tr>\n",
       "      <th>4998</th>\n",
       "      <td>0.001949</td>\n",
       "      <td>0.019511</td>\n",
       "      <td>0.099885</td>\n",
       "    </tr>\n",
       "    <tr>\n",
       "      <th>4999</th>\n",
       "      <td>0.003649</td>\n",
       "      <td>0.029786</td>\n",
       "      <td>0.122514</td>\n",
       "    </tr>\n",
       "  </tbody>\n",
       "</table>\n",
       "</div>"
      ],
      "text/plain": [
       "        Return  Volatility  Sharpe Ratio\n",
       "4995  0.000615    0.021539      0.028576\n",
       "4996  0.003054    0.027138      0.112524\n",
       "4997  0.001121    0.016580      0.067617\n",
       "4998  0.001949    0.019511      0.099885\n",
       "4999  0.003649    0.029786      0.122514"
      ]
     },
     "execution_count": 18,
     "metadata": {},
     "output_type": "execute_result"
    }
   ],
   "source": [
    "portfolios.tail()"
   ]
  },
  {
   "cell_type": "code",
   "execution_count": 19,
   "metadata": {},
   "outputs": [],
   "source": [
    "porfolio_metrics = [pfolio_returns,pfolio_volatilities,sharpe_ratio, pfolio_weights] \n",
    "portfolio_metr_df = pd.DataFrame(porfolio_metrics)\n",
    "portfolio_metr_df = portfolio_metr_df.T\n",
    "portfolio_metr_df.columns = ['Port Returns','Port Risk','Sharpe Ratio','Portfolio Weights']"
   ]
  },
  {
   "cell_type": "code",
   "execution_count": 20,
   "metadata": {},
   "outputs": [],
   "source": [
    "for col in ['Port Returns', 'Port Risk', 'Sharpe Ratio']:\n",
    "    portfolio_metr_df[col] = portfolio_metr_df[col].astype(float)"
   ]
  },
  {
   "cell_type": "code",
   "execution_count": 21,
   "metadata": {},
   "outputs": [
    {
     "data": {
      "text/html": [
       "<div>\n",
       "<style scoped>\n",
       "    .dataframe tbody tr th:only-of-type {\n",
       "        vertical-align: middle;\n",
       "    }\n",
       "\n",
       "    .dataframe tbody tr th {\n",
       "        vertical-align: top;\n",
       "    }\n",
       "\n",
       "    .dataframe thead th {\n",
       "        text-align: right;\n",
       "    }\n",
       "</style>\n",
       "<table border=\"1\" class=\"dataframe\">\n",
       "  <thead>\n",
       "    <tr style=\"text-align: right;\">\n",
       "      <th></th>\n",
       "      <th>Port Returns</th>\n",
       "      <th>Port Risk</th>\n",
       "      <th>Sharpe Ratio</th>\n",
       "      <th>Portfolio Weights</th>\n",
       "    </tr>\n",
       "  </thead>\n",
       "  <tbody>\n",
       "    <tr>\n",
       "      <th>0</th>\n",
       "      <td>0.003099</td>\n",
       "      <td>0.026248</td>\n",
       "      <td>0.118059</td>\n",
       "      <td>[0.283, 0.485, 0.233]</td>\n",
       "    </tr>\n",
       "    <tr>\n",
       "      <th>1</th>\n",
       "      <td>0.002455</td>\n",
       "      <td>0.020036</td>\n",
       "      <td>0.122548</td>\n",
       "      <td>[0.034, 0.391, 0.575]</td>\n",
       "    </tr>\n",
       "    <tr>\n",
       "      <th>2</th>\n",
       "      <td>0.002676</td>\n",
       "      <td>0.021847</td>\n",
       "      <td>0.122505</td>\n",
       "      <td>[0.101, 0.424, 0.474]</td>\n",
       "    </tr>\n",
       "    <tr>\n",
       "      <th>3</th>\n",
       "      <td>0.000650</td>\n",
       "      <td>0.016476</td>\n",
       "      <td>0.039466</td>\n",
       "      <td>[0.54, 0.032, 0.429]</td>\n",
       "    </tr>\n",
       "    <tr>\n",
       "      <th>4</th>\n",
       "      <td>0.002748</td>\n",
       "      <td>0.026560</td>\n",
       "      <td>0.103454</td>\n",
       "      <td>[0.508, 0.405, 0.087]</td>\n",
       "    </tr>\n",
       "  </tbody>\n",
       "</table>\n",
       "</div>"
      ],
      "text/plain": [
       "   Port Returns  Port Risk  Sharpe Ratio      Portfolio Weights\n",
       "0      0.003099   0.026248      0.118059  [0.283, 0.485, 0.233]\n",
       "1      0.002455   0.020036      0.122548  [0.034, 0.391, 0.575]\n",
       "2      0.002676   0.021847      0.122505  [0.101, 0.424, 0.474]\n",
       "3      0.000650   0.016476      0.039466   [0.54, 0.032, 0.429]\n",
       "4      0.002748   0.026560      0.103454  [0.508, 0.405, 0.087]"
      ]
     },
     "execution_count": 21,
     "metadata": {},
     "output_type": "execute_result"
    }
   ],
   "source": [
    "portfolio_metr_df.head()"
   ]
  },
  {
   "cell_type": "code",
   "execution_count": 22,
   "metadata": {},
   "outputs": [
    {
     "data": {
      "text/html": [
       "<div>\n",
       "<style scoped>\n",
       "    .dataframe tbody tr th:only-of-type {\n",
       "        vertical-align: middle;\n",
       "    }\n",
       "\n",
       "    .dataframe tbody tr th {\n",
       "        vertical-align: top;\n",
       "    }\n",
       "\n",
       "    .dataframe thead th {\n",
       "        text-align: right;\n",
       "    }\n",
       "</style>\n",
       "<table border=\"1\" class=\"dataframe\">\n",
       "  <thead>\n",
       "    <tr style=\"text-align: right;\">\n",
       "      <th></th>\n",
       "      <th>Port Returns</th>\n",
       "      <th>Port Risk</th>\n",
       "      <th>Sharpe Ratio</th>\n",
       "      <th>Portfolio Weights</th>\n",
       "    </tr>\n",
       "  </thead>\n",
       "  <tbody>\n",
       "    <tr>\n",
       "      <th>4995</th>\n",
       "      <td>0.000615</td>\n",
       "      <td>0.021539</td>\n",
       "      <td>0.028576</td>\n",
       "      <td>[0.792, 0.006, 0.202]</td>\n",
       "    </tr>\n",
       "    <tr>\n",
       "      <th>4996</th>\n",
       "      <td>0.003054</td>\n",
       "      <td>0.027138</td>\n",
       "      <td>0.112524</td>\n",
       "      <td>[0.394, 0.468, 0.138]</td>\n",
       "    </tr>\n",
       "    <tr>\n",
       "      <th>4997</th>\n",
       "      <td>0.001121</td>\n",
       "      <td>0.016580</td>\n",
       "      <td>0.067617</td>\n",
       "      <td>[0.457, 0.122, 0.422]</td>\n",
       "    </tr>\n",
       "    <tr>\n",
       "      <th>4998</th>\n",
       "      <td>0.001949</td>\n",
       "      <td>0.019511</td>\n",
       "      <td>0.099885</td>\n",
       "      <td>[0.366, 0.275, 0.359]</td>\n",
       "    </tr>\n",
       "    <tr>\n",
       "      <th>4999</th>\n",
       "      <td>0.003649</td>\n",
       "      <td>0.029786</td>\n",
       "      <td>0.122514</td>\n",
       "      <td>[0.229, 0.586, 0.185]</td>\n",
       "    </tr>\n",
       "  </tbody>\n",
       "</table>\n",
       "</div>"
      ],
      "text/plain": [
       "      Port Returns  Port Risk  Sharpe Ratio      Portfolio Weights\n",
       "4995      0.000615   0.021539      0.028576  [0.792, 0.006, 0.202]\n",
       "4996      0.003054   0.027138      0.112524  [0.394, 0.468, 0.138]\n",
       "4997      0.001121   0.016580      0.067617  [0.457, 0.122, 0.422]\n",
       "4998      0.001949   0.019511      0.099885  [0.366, 0.275, 0.359]\n",
       "4999      0.003649   0.029786      0.122514  [0.229, 0.586, 0.185]"
      ]
     },
     "execution_count": 22,
     "metadata": {},
     "output_type": "execute_result"
    }
   ],
   "source": [
    "portfolio_metr_df.tail()"
   ]
  },
  {
   "cell_type": "code",
   "execution_count": 23,
   "metadata": {},
   "outputs": [
    {
     "data": {
      "text/plain": [
       "0.1293142985914301"
      ]
     },
     "execution_count": 23,
     "metadata": {},
     "output_type": "execute_result"
    }
   ],
   "source": [
    "max_sharpe = sharpe_ratio.max()\n",
    "max_sharpe"
   ]
  },
  {
   "cell_type": "code",
   "execution_count": 24,
   "metadata": {},
   "outputs": [
    {
     "name": "stdout",
     "output_type": "stream",
     "text": [
      "return =  0.005199165333378651 ; volatility =  0.04020564925929397\n"
     ]
    }
   ],
   "source": [
    "max_sharpe_index = sharpe_ratio.argmax()\n",
    "max_sharpe_return = pfolio_returns[max_sharpe_index]\n",
    "max_sharpe_vol = pfolio_volatilities[max_sharpe_index]\n",
    "print(\"return = \", max_sharpe_return,\";\",\"volatility = \", max_sharpe_vol)"
   ]
  },
  {
   "cell_type": "code",
   "execution_count": 25,
   "metadata": {},
   "outputs": [
    {
     "name": "stdout",
     "output_type": "stream",
     "text": [
      "minimum variance point =  0.0109132183035024 ; return in minimum variance =  0.00037833137837230097\n"
     ]
    }
   ],
   "source": [
    "min_var_index = pfolio_volatilities.argmin()\n",
    "min_var_return = pfolio_returns[min_var_index]\n",
    "min_var = pfolio_volatilities[min_var_index]\n",
    "print(\"minimum variance point = \",min_var,\";\",\"return in minimum variance = \", min_var_return)"
   ]
  },
  {
   "cell_type": "code",
   "execution_count": 26,
   "metadata": {},
   "outputs": [
    {
     "data": {
      "text/plain": [
       "<matplotlib.collections.PathCollection at 0x1a3c23b8310>"
      ]
     },
     "execution_count": 26,
     "metadata": {},
     "output_type": "execute_result"
    },
    {
     "data": {
      "image/png": "[encoded data removed]",
      "text/plain": [
       "<Figure size 720x432 with 2 Axes>"
      ]
     },
     "metadata": {
      "needs_background": "light"
     },
     "output_type": "display_data"
    }
   ],
   "source": [
    "plt.figure(figsize=(10,6))\n",
    "plt.scatter(pfolio_volatilities, pfolio_returns,c = sharpe_ratio)\n",
    "plt.colorbar(label='Sharpe Ratio')\n",
    "plt.xlabel('Volatility')\n",
    "plt.ylabel('Return')\n",
    "plt.scatter(max_sharpe_vol,max_sharpe_return,c='red',s=90)\n",
    "plt.scatter(min_var,min_var_return,c='blue',s=90)"
   ]
  },
  {
   "cell_type": "markdown",
   "metadata": {},
   "source": [
    "# Result:"
   ]
  },
  {
   "cell_type": "code",
   "execution_count": 27,
   "metadata": {},
   "outputs": [
    {
     "name": "stdout",
     "output_type": "stream",
     "text": [
      "In the Global Minimum Variance Point, the Volatility(Risk) of the stock is  0.01091\n",
      ", with the Return of  0.00038\n",
      "The Allocation of the Asset in GMVP is  [0.081 0.02  0.899]\n",
      "------------------------------------------------------------------------------------------------------------------------\n"
     ]
    }
   ],
   "source": [
    "print(\"In the Global Minimum Variance Point, the Volatility(Risk) of the stock is \", round(min_var,5))\n",
    "print(\", with the Return of \", round(min_var_return,5))\n",
    "print(\"The Allocation of the Asset in GMVP is \", pfolio_weights[min_var_index])\n",
    "print(\"-\"*120)"
   ]
  },
  {
   "cell_type": "code",
   "execution_count": 28,
   "metadata": {
    "scrolled": false
   },
   "outputs": [
    {
     "name": "stdout",
     "output_type": "stream",
     "text": [
      "In the Optimal Point, the Volatility(Risk) of the stock is  0.04021\n",
      ", with the Return of  0.0052\n",
      "The Allocation of the Asset in Optimal Point is  [0.004 0.878 0.118]\n",
      "------------------------------------------------------------------------------------------------------------------------\n"
     ]
    }
   ],
   "source": [
    "print(\"In the Optimal Point, the Volatility(Risk) of the stock is \", round(max_sharpe_vol,5))\n",
    "print(\", with the Return of \", round(max_sharpe_return,5))\n",
    "print(\"The Allocation of the Asset in Optimal Point is \", pfolio_weights[max_sharpe_index])\n",
    "print(\"-\"*120)"
   ]
  },
  {
   "cell_type": "code",
   "execution_count": null,
   "metadata": {},
   "outputs": [],
   "source": []
  }
 ],
 "metadata": {
  "kernelspec": {
   "display_name": "Python 3",
   "language": "python",
   "name": "python3"
  },
  "language_info": {
   "codemirror_mode": {
    "name": "ipython",
    "version": 3
   },
   "file_extension": ".py",
   "mimetype": "text/x-python",
   "name": "python",
   "nbconvert_exporter": "python",
   "pygments_lexer": "ipython3",
   "version": "3.8.5"
  }
 },
 "nbformat": 4,
 "nbformat_minor": 2
}
